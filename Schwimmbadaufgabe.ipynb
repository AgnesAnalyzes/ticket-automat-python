{
 "cells": [
  {
   "cell_type": "markdown",
   "id": "2efcb681-498a-4749-8d95-2590cfcd98a5",
   "metadata": {},
   "source": [
    "Schwimmbadautomat soll nur max. 20 Tickets vergeben."
   ]
  },
  {
   "cell_type": "code",
   "execution_count": 60,
   "id": "419cedc5-0267-475d-bfb7-26197598e08e",
   "metadata": {},
   "outputs": [
    {
     "name": "stdin",
     "output_type": "stream",
     "text": [
      "Wie viele Tickets möchtest du Kaufen? 21\n"
     ]
    },
    {
     "name": "stdout",
     "output_type": "stream",
     "text": [
      "Es können am Tag nur 20 Tickets verkauft werden und du kannst nur eine Ticketanzahl unter dieser wählen.\n"
     ]
    },
    {
     "name": "stdin",
     "output_type": "stream",
     "text": [
      "Wie viele Tickets möchtest du Kaufen? 20\n"
     ]
    },
    {
     "name": "stdout",
     "output_type": "stream",
     "text": [
      "Hier ist dein Ticket. Das Schwimmbad ist damit voll.\n"
     ]
    }
   ],
   "source": [
    "tickets_ist = 0\n",
    "tickets_übrig = 0\n",
    "\n",
    "while tickets_ist < 20:\n",
    "    abfrage = int(input(\"Wie viele Tickets möchtest du Kaufen?\"))\n",
    "    tickets_soll = abfrage + tickets_ist\n",
    "    \n",
    "    if tickets_soll < 20:\n",
    "        print(\"Gerne! Hier sind deine\", abfrage, \"Tickets. Viel Spaß!\")\n",
    "        tickets_übrig = 20 - tickets_soll\n",
    "        print(\"Es können noch\", tickets_übrig, \"Tickets verkauft werden.\")\n",
    "        tickets_ist = tickets_soll\n",
    "    elif abfrage >= 21:\n",
    "        print(\"Es können am Tag nur 20 Tickets verkauft werden und du kannst nur eine Ticketanzahl unter dieser wählen.\")\n",
    "    elif tickets_soll > 20:\n",
    "        print(\"Tut uns leid, aber es können nur insgesamt 20 Tickets am Tag gekauft werden. Heute wurden bereits\", tickets_ist, \"verkauft. Wähle eine neue Anzahl an Tickets.\")\n",
    "        ticket_ist = tickets_soll\n",
    "    elif tickets_soll == 20:\n",
    "            print(\"Hier ist dein Ticket. Das Schwimmbad ist damit voll.\")\n",
    "            break\n",
    "              "
   ]
  },
  {
   "cell_type": "code",
   "execution_count": null,
   "id": "833595cf-a599-484c-9164-3621ea11c5a0",
   "metadata": {},
   "outputs": [],
   "source": []
  }
 ],
 "metadata": {
  "kernelspec": {
   "display_name": "Python [conda env:base] *",
   "language": "python",
   "name": "conda-base-py"
  },
  "language_info": {
   "codemirror_mode": {
    "name": "ipython",
    "version": 3
   },
   "file_extension": ".py",
   "mimetype": "text/x-python",
   "name": "python",
   "nbconvert_exporter": "python",
   "pygments_lexer": "ipython3",
   "version": "3.13.5"
  }
 },
 "nbformat": 4,
 "nbformat_minor": 5
}
